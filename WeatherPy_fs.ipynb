{
 "cells": [
  {
   "cell_type": "code",
   "execution_count": 2,
   "id": "231063bd",
   "metadata": {},
   "outputs": [],
   "source": [
    "#Dependices for the weather \n",
    "import matplotlib.pyplot as plt\n",
    "import pandas as pd\n",
    "import numpy as np\n",
    "import requests\n",
    "import time\n",
    "from scipy.stats import linregress\n",
    "\n",
    "#Import API key\n",
    "from api_keys import weather_api_key\n",
    "\n",
    "#import citipy for lat and lng\n",
    "from citipy import citipy\n",
    "\n",
    "\n",
    "output_df = \"../output_data/cities.csv\"\n",
    "\n",
    "#setting the range for lat and lng\n",
    "# Range of latitudes and longitudes\n",
    "lat_range = (-90, 90)\n",
    "lng_range = (-180, 180)"
   ]
  },
  {
   "cell_type": "markdown",
   "id": "faa0f3db",
   "metadata": {},
   "source": [
    "# Generate Cities List"
   ]
  },
  {
   "cell_type": "code",
   "execution_count": 3,
   "id": "3d4025a4",
   "metadata": {},
   "outputs": [
    {
     "data": {
      "text/plain": [
       "600"
      ]
     },
     "execution_count": 3,
     "metadata": {},
     "output_type": "execute_result"
    }
   ],
   "source": [
    "#Create the list\n",
    "lat_lng = []\n",
    "cities = []\n",
    "\n",
    "# Create a set of random lat and lng combinations\n",
    "lats = np.random.uniform(lat_range[0], lat_range[1], size=1500)\n",
    "lngs = np.random.uniform(lng_range[0], lng_range[1], size=1500)\n",
    "lat_lngs = zip(lats, lngs)\n",
    "\n",
    "#for loop\n",
    "for lat_lng in lat_lngs:\n",
    "    city = citipy.nearest_city(lat_lng[0], lat_lng[1]).city_name\n",
    "     # If the city is unique, then add it to a our cities list\n",
    "    if city not in cities:\n",
    "        cities.append(city)\n",
    "        \n",
    "# Print the city count to confirm sufficient count\n",
    "len(cities)        "
   ]
  },
  {
   "cell_type": "markdown",
   "id": "95893978",
   "metadata": {},
   "source": [
    "# Perform API Calls\n",
    "* Perform a weather check on each city using a series of successive API calls.\n",
    "* Include a print log of each city as it'sbeing processed (with the city number and city name)."
   ]
  },
  {
   "cell_type": "code",
   "execution_count": 9,
   "id": "494de01c",
   "metadata": {},
   "outputs": [
    {
     "name": "stdout",
     "output_type": "stream",
     "text": [
      "Data not found in this row. skip the row...\n",
      "Data not found in this row. skip the row...\n",
      "Data not found in this row. skip the row...\n",
      "Data not found in this row. skip the row...\n",
      "Data not found in this row. skip the row...\n",
      "Data not found in this row. skip the row...\n",
      "Data not found in this row. skip the row...\n",
      "Data not found in this row. skip the row...\n",
      "Data not found in this row. skip the row...\n",
      "Data not found in this row. skip the row...\n",
      "Data not found in this row. skip the row...\n",
      "Data not found in this row. skip the row...\n",
      "Data not found in this row. skip the row...\n",
      "Data not found in this row. skip the row...\n",
      "Data not found in this row. skip the row...\n",
      "Data not found in this row. skip the row...\n",
      "Data not found in this row. skip the row...\n",
      "Data not found in this row. skip the row...\n",
      "Data not found in this row. skip the row...\n",
      "Data not found in this row. skip the row...\n"
     ]
    }
   ],
   "source": [
    "#setting th url for requests\n",
    "#https://api.openweathermap.org/data/2.5/weather?lat={lat}&lon={lon}&appid={API key}lat={lat}&lon={lon}&appid={API key}\n",
    "url = \"https://api.openweathermap.org/data/2.5/weather?\"\n",
    "units = \"imperial\"\n",
    "query_url = f\"{url}aapid={weather_api_key}&units={units}&q=\"\n",
    "\n",
    "\n",
    "# Creating the empty list for city, country, latitude, longitude, Max Temp, Humidity, Cloudiness, Wind Speed, Date\n",
    "\n",
    "city = []\n",
    "country = []\n",
    "latitude = []\n",
    "longitude = []\n",
    "max_temp = []\n",
    "humidity = []\n",
    "cloudiness = []\n",
    "wind_speed = []\n",
    "date = []\n",
    "\n",
    "#for loop to pull the data from the url \n",
    "for city in cities[0:20]:\n",
    "    #response from the openweather.org\n",
    "    response = requests.get(query_url + city).json()\n",
    "    #error handling\n",
    "    #append to the empty list\n",
    "    try:\n",
    "        city_name = response['name']\n",
    "        city.append(city_name)\n",
    "        \n",
    "        country_name = response['sys']['country']\n",
    "        country.append(country_name)\n",
    "        \n",
    "        latitude_loc = reponse['coord']['lat']\n",
    "        latitude.append(latitude_loc)\n",
    "        \n",
    "        longitude_loc = response['coord']['lon']\n",
    "        longitude.append(longitude)\n",
    "        \n",
    "        max_temperature = response['main']['temp_max']\n",
    "        max_temp.append(max_temp)\n",
    "        \n",
    "        humidity_data = response['main']['humidity']\n",
    "        humidity.append(humidity)\n",
    "        \n",
    "        cloud = response['clouds']['all']\n",
    "        cloudiness.append(cloud)\n",
    "        \n",
    "        wind_data = response['wind']['speed']\n",
    "        wind_speed.append(wind_data)\n",
    "        \n",
    "        date_data = response['dt']\n",
    "        date.append('date_data')\n",
    "        \n",
    "        print(f\"City : {city}, country : {country}\")\n",
    "    \n",
    "    #exception handling\n",
    "    except:        \n",
    "        print(\"Data not found in this row. skip the row...\")\n",
    "        \n",
    "        \n",
    "\n"
   ]
  },
  {
   "cell_type": "code",
   "execution_count": null,
   "id": "189b8b91",
   "metadata": {},
   "outputs": [],
   "source": []
  }
 ],
 "metadata": {
  "kernelspec": {
   "display_name": "PythonData",
   "language": "python",
   "name": "pythondata"
  },
  "language_info": {
   "codemirror_mode": {
    "name": "ipython",
    "version": 3
   },
   "file_extension": ".py",
   "mimetype": "text/x-python",
   "name": "python",
   "nbconvert_exporter": "python",
   "pygments_lexer": "ipython3",
   "version": "3.7.7"
  }
 },
 "nbformat": 4,
 "nbformat_minor": 5
}
